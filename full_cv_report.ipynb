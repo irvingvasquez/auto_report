{
 "cells": [
  {
   "cell_type": "markdown",
   "metadata": {},
   "source": [
    "# Reportar Producción Científica"
   ]
  },
  {
   "cell_type": "code",
   "execution_count": 1,
   "metadata": {},
   "outputs": [],
   "source": [
    "import csv\n",
    "#import pandas as pd\n",
    "import datetime\n",
    "import bibtexparser"
   ]
  },
  {
   "cell_type": "code",
   "execution_count": 2,
   "metadata": {},
   "outputs": [],
   "source": [
    "# Fechas del reporte\n",
    "date_inicio = datetime.datetime(2008,8,1)\n",
    "\n",
    "date_fin = datetime.datetime(2020,10,30)"
   ]
  },
  {
   "cell_type": "markdown",
   "metadata": {},
   "source": [
    "## Read databases"
   ]
  },
  {
   "cell_type": "code",
   "execution_count": 3,
   "metadata": {},
   "outputs": [],
   "source": [
    "## Papers\n",
    "with open('database/myproducts.bib') as bibtex_file:\n",
    "    bibtex_str = bibtex_file.read()\n",
    "\n",
    "bib_database = bibtexparser.loads(bibtex_str)\n",
    "#print(bib_database.entries)\n",
    "\n",
    "\n",
    "# Teaching\n",
    "teaching = []\n",
    "with open('database/teaching.csv', 'r') as csvfile:\n",
    "    reader = csv.DictReader(csvfile)\n",
    "    for row in reader:\n",
    "        dictio = dict(row)\n",
    "        teaching.append(dictio)\n",
    "\n",
    " \n",
    "# Talks\n",
    "talks = []\n",
    "with open('database/talks.csv', 'r') as csvfile:\n",
    "    reader = csv.DictReader(csvfile)\n",
    "    for row in reader:\n",
    "        dictio = dict(row)\n",
    "        talks.append(dictio)\n",
    "        \n",
    "# Developments\n",
    "developments = []\n",
    "with open('database/developments.csv', 'r') as csvfile:\n",
    "    reader = csv.DictReader(csvfile)\n",
    "    for row in reader:\n",
    "        dictio = dict(row)\n",
    "        developments.append(dictio)\n",
    "        \n",
    "        \n",
    "# Divulgacion\n",
    "divulgacion = []\n",
    "with open('database/divulgacion.csv', 'r') as csvfile:\n",
    "    reader = csv.DictReader(csvfile)\n",
    "    for row in reader:\n",
    "        dictio = dict(row)\n",
    "        divulgacion.append(dictio)\n",
    "#print(divulgacion)\n"
   ]
  },
  {
   "cell_type": "code",
   "execution_count": 4,
   "metadata": {},
   "outputs": [
    {
     "name": "stdout",
     "output_type": "stream",
     "text": [
      "26 products found\n",
      "8 JCR products found\n",
      "9 Proccedings products found\n",
      "3 Master Thesis found\n",
      "1 conacyt articles\n"
     ]
    }
   ],
   "source": [
    "# Papers and thesis\n",
    "\n",
    "count = 0\n",
    "count_jcr = 0\n",
    "count_cona = 0\n",
    "count_proc = 0\n",
    "count_mt = 0\n",
    "count_subm = 0\n",
    "count_otros = 0\n",
    "count_divul = 0\n",
    "\n",
    "jcr_entries = []\n",
    "proc_entries = []\n",
    "mt_entries = []\n",
    "cona_entries = []\n",
    "subm_entries = []\n",
    "otros_entries = []\n",
    "divul_entries = []\n",
    "\n",
    "labels = []\n",
    "publicaciones = []\n",
    "\n",
    "for entry in bib_database.entries:\n",
    "    #print(entry)\n",
    "    entry_date = datetime.datetime(int(entry['year']), int(entry['month']), 1)\n",
    "    #if int(entry['year']) >= int(inicio['year']) and int(entry['year']) <= int(fin['year']):\n",
    "    if date_inicio <= entry_date and entry_date <= date_fin:\n",
    "        count = count +1\n",
    "        #print(prod)\n",
    "        \n",
    "        if entry['ENTRYTYPE'] == 'article':\n",
    "            if entry['note'] == 'jcr':\n",
    "                jcr_entries.append(entry)\n",
    "                count_jcr += 1\n",
    "                \n",
    "            elif entry['note'] == 'conacyt':\n",
    "                cona_entries.append(entry)\n",
    "                count_cona += 1\n",
    "                \n",
    "            elif entry['note'] == 'divulgacion':\n",
    "                divul_entries.append(entry)\n",
    "                count_divul += 1\n",
    "                \n",
    "            else:\n",
    "                otros_entries.append(entry)\n",
    "                count_otros += 1\n",
    "            \n",
    "        if entry['ENTRYTYPE'] == 'inproceedings':\n",
    "            proc_entries.append(entry)\n",
    "            count_proc += 1\n",
    "            \n",
    "        if entry['ENTRYTYPE'] == 'mastersthesis':\n",
    "            mt_entries.append(entry)\n",
    "            count_mt += 1\n",
    "            \n",
    "        if entry['ENTRYTYPE'] == 'unpublished':\n",
    "            subm_entries.append(entry)\n",
    "            count_subm += 1\n",
    "        \n",
    "print(f\"{count} products found\")\n",
    "print(f\"{count_jcr} JCR products found\")\n",
    "print(f\"{count_proc} Proccedings products found\")\n",
    "print(f\"{count_mt} Master Thesis found\")\n",
    "print(f\"{count_cona} conacyt articles\")\n",
    "\n",
    "if count_jcr > 0:\n",
    "    publicaciones.append(count_jcr)\n",
    "    labels.append(\"Artículos JCR\")\n",
    "    \n",
    "if count_proc > 0:\n",
    "    publicaciones.append(count_proc)\n",
    "    labels.append(\"Congresos\")\n",
    "\n",
    "if count_mt > 0:\n",
    "    publicaciones.append(count_mt)\n",
    "    labels.append(\"Tesis de Maestría\")\n",
    "    \n",
    "if count_cona > 0:\n",
    "    publicaciones.append(count_cona)\n",
    "    labels.append(\"Articulos Conacyt\")\n",
    "    \n",
    "if count_otros > 0:\n",
    "    publicaciones.append(count_otros)\n",
    "    labels.append(\"Otros\")\n"
   ]
  },
  {
   "cell_type": "code",
   "execution_count": null,
   "metadata": {},
   "outputs": [],
   "source": []
  },
  {
   "cell_type": "code",
   "execution_count": 5,
   "metadata": {},
   "outputs": [],
   "source": [
    "# list products between dates\n",
    "#count_activ = 0\n",
    "\n",
    "#activities_dv = []\n",
    "#for activ in divulgacion:\n",
    "    #print(toDate(subject['Inicio']).year)\n",
    "#    if date_inicio <= toDate(activ['Date']) and date_fin >= toDate(activ['Date']):\n",
    "#        count_activ += 1\n",
    "#        activities_dv.append(activ)\n",
    "        \n",
    "#print(f\"{count_activ} actividades de divulación o vinculación\")\n"
   ]
  },
  {
   "cell_type": "markdown",
   "metadata": {},
   "source": [
    "## Publicaciones"
   ]
  },
  {
   "cell_type": "code",
   "execution_count": 6,
   "metadata": {},
   "outputs": [
    {
     "data": {
      "text/plain": [
       "<Figure size 900x450 with 1 Axes>"
      ]
     },
     "metadata": {},
     "output_type": "display_data"
    }
   ],
   "source": [
    "# Graficar los productos\n",
    "\n",
    "import numpy as np\n",
    "import matplotlib.pyplot as plt\n",
    "\n",
    "fig, ax1 = plt.subplots(figsize=(9, 4.5), subplot_kw=dict(aspect=\"equal\"))\n",
    "\n",
    "#fig1, ax1 = plt.subplots()\n",
    "ax1.pie(publicaciones, labels=labels, autopct='%1.1f%%',\n",
    "        shadow=True, startangle=90)\n",
    "# Equal aspect ratio ensures that pie is drawn as a circle\n",
    "ax1.axis('equal')  \n",
    "plt.tight_layout()\n",
    "plt.show()\n",
    "\n",
    "#plt.pie(publicaciones, labels = labels)\n",
    "\n",
    "#plt.show()"
   ]
  },
  {
   "cell_type": "code",
   "execution_count": 7,
   "metadata": {},
   "outputs": [],
   "source": [
    "# Crear un archivo .tex para la producción científica\n",
    "# Articulos JCR\n",
    "\n",
    "# write data in a file. \n",
    "file1 = open(\"text/jcr_journals.tex\",\"w\") \n",
    "#L = [\"This is Delhi \\n\",\"This is Paris \\n\",\"This is London \\n\"]  \n",
    "  \n",
    "# \\n is placed to indicate EOL (End of Line) \n",
    "if count_jcr > 0:\n",
    "    file1.write(\"\\\\begin{itemize} \\n\") \n",
    "    \n",
    "    jcr_entries = sorted(jcr_entries, key = lambda i: i['year'], reverse = True)\n",
    "    \n",
    "    for entry in jcr_entries:\n",
    "        file1.write(f\"\\\\item {entry['author']}, {entry['title']},\\\\textit{{ {entry['journal']},}} ({entry['year']}), I.F. {entry['if']} \\n\") \n",
    "                    \n",
    "    file1.write(\"\\\\end{itemize} \\n\")                     \n",
    "                                        \n",
    "file1.close() #to change file access modes \n"
   ]
  },
  {
   "cell_type": "code",
   "execution_count": 8,
   "metadata": {},
   "outputs": [],
   "source": [
    "# CONACYT\n",
    "\n",
    "# write data in a file. \n",
    "file1 = open(\"text/conacyt_journals.tex\",\"w\") \n",
    "#L = [\"This is Delhi \\n\",\"This is Paris \\n\",\"This is London \\n\"]    \n",
    "                    \n",
    "if count_cona > 0:\n",
    "    file1.write(\"\\\\begin{itemize} \\n\") \n",
    "    \n",
    "    cona_entries = sorted(cona_entries, key = lambda i: i['year'], reverse = True)\n",
    "    \n",
    "    for entry in cona_entries:\n",
    "        file1.write(f\"\\\\item {entry['author']}, {entry['title']},\\\\textit{{ {entry['journal']},}} ({entry['year']}) \\n\") \n",
    "                    \n",
    "    file1.write(\"\\\\end{itemize} \\n\")                  \n",
    "                                        \n",
    "file1.close() #to change file access modes "
   ]
  },
  {
   "cell_type": "code",
   "execution_count": 9,
   "metadata": {},
   "outputs": [],
   "source": [
    "# CONFERENCIAS\n",
    "\n",
    "# write data in a file. \n",
    "file1 = open(\"text/proceedings.tex\",\"w\") \n",
    "                                      \n",
    "if count_proc > 0:\n",
    "   file1.write(\"\\\\begin{itemize} \\n\") \n",
    "                    \n",
    "   proc_entries = sorted(proc_entries, key = lambda i: i['year'], reverse = True)\n",
    "                    \n",
    "   for entry in proc_entries:\n",
    "        file1.write(f\"\\\\item {entry['author']}, {entry['title']}, \\\\textit{{ {entry['booktitle']},}} {entry['year']} \\n\")        \n",
    "\n",
    "   file1.write(\"\\\\end{itemize} \\n\")                     \n",
    "                                        \n",
    "file1.close() #to change file access modes "
   ]
  },
  {
   "cell_type": "code",
   "execution_count": null,
   "metadata": {},
   "outputs": [],
   "source": []
  },
  {
   "cell_type": "markdown",
   "metadata": {},
   "source": [
    "## Estudiantes\n",
    "\n",
    "Crear un archivo tex para la formación de recursos humanos"
   ]
  },
  {
   "cell_type": "code",
   "execution_count": 10,
   "metadata": {},
   "outputs": [],
   "source": [
    "\n",
    "# MAESTRIA\n",
    "\n",
    "# write data in a file. \n",
    "file1 = open(\"text/master_students.tex\",\"w\")\n",
    "\n",
    "#file1.write(\"\\\\item{\\\\bf GRADUATED MASTER STUDENTS: }\\n\")\n",
    "    \n",
    "if count_mt > 0:\n",
    "    #file1.write(\"Tesis de maestría dirigidas: \\n\")\n",
    "    file1.write(\"\\\\begin{itemize} \\n\")\n",
    "    \n",
    "    mt_entries = sorted(mt_entries, key = lambda i: i['year'], reverse = True)\n",
    "                    \n",
    "    for entry in mt_entries:\n",
    "        file1.write(f\"\\\\item {entry['author']}, \\\\textit{{ {entry['title']},}} {entry['year']} \\n\")        \n",
    "\n",
    "    file1.write(\"\\\\end{itemize} \\n\") \n",
    "                    \n",
    "file1.close() #to change file access modes "
   ]
  },
  {
   "cell_type": "markdown",
   "metadata": {},
   "source": [
    "## Clases"
   ]
  },
  {
   "cell_type": "code",
   "execution_count": 11,
   "metadata": {},
   "outputs": [
    {
     "name": "stdout",
     "output_type": "stream",
     "text": [
      "15 materias impartidas\n",
      "828 horas impartidas\n"
     ]
    }
   ],
   "source": [
    "# Teaching\n",
    "def toDate(cadena):\n",
    "    return datetime.datetime.strptime(cadena, '%Y/%m/%d')\n",
    "\n",
    "# list products between dates\n",
    "count_sub = 0\n",
    "total_hours = 0\n",
    "\n",
    "for subject in teaching:\n",
    "    #print(toDate(subject['Inicio']).year)\n",
    "    if date_inicio <= toDate(subject['Inicio']) and date_fin >= toDate(subject['Fin']):\n",
    "        count_sub += 1\n",
    "        total_hours += int(subject['Horas'])     \n",
    "        \n",
    "print(f\"{count_sub} materias impartidas\")\n",
    "print(f\"{total_hours} horas impartidas\")\n",
    "\n",
    "\n",
    "# write data in a file. \n",
    "file1 = open(\"text/teaching.tex\",\"w\")\n",
    "\n",
    "#file1.write(\"\\\\item{\\\\bf GRADUATED MASTER STUDENTS: }\\n\")\n",
    "    \n",
    "if len(teaching) > 0:\n",
    "    #teaching = sorted(teaching, key = lambda i: i['year'], reverse = True)\n",
    "    \n",
    "    file1.write(\"\\\\begin{itemize} \\n\")\n",
    "                    \n",
    "    for entry in teaching:\n",
    "        file1.write(f\"\\\\item {entry['Inicio']}, \\\\textit{{ {entry['Nombre']},}} nivel {entry['Nivel']}, {entry['Horas']} horas. \\n\")        \n",
    "\n",
    "    file1.write(\"\\\\end{itemize} \\n\") \n",
    "                    \n",
    "file1.close() #to change file access modes "
   ]
  },
  {
   "cell_type": "markdown",
   "metadata": {},
   "source": [
    "## Desarrollos tecnológicos"
   ]
  },
  {
   "cell_type": "code",
   "execution_count": 12,
   "metadata": {},
   "outputs": [],
   "source": [
    "# Desarrollos tecnológicos\n",
    "\n",
    "file1 = open(\"text/developments.tex\",\"w\")\n",
    "\n",
    "if len(developments) > 0:\n",
    "    #teaching = sorted(teaching, key = lambda i: i['year'], reverse = True)\n",
    "    file1.write(\"\\\\begin{itemize} \\n\")\n",
    "                    \n",
    "    for entry in developments:\n",
    "        file1.write(f\"\\\\item {entry['Date']}, \\\\textit{{ {entry['Name']},}} {entry['User']}, {entry['License']}, {entry['Validation']} \\n\")        \n",
    "\n",
    "    file1.write(\"\\\\end{itemize} \\n\") \n",
    "                    \n",
    "file1.close() #to change file access modes "
   ]
  },
  {
   "cell_type": "markdown",
   "metadata": {},
   "source": [
    "## Vinculación y divulgación"
   ]
  },
  {
   "cell_type": "code",
   "execution_count": 13,
   "metadata": {},
   "outputs": [],
   "source": [
    "# Talks\n",
    "\n",
    "# write data in a file. \n",
    "file1 = open(\"text/talks.tex\",\"w\")\n",
    "\n",
    "if len(talks) > 0:\n",
    "    file1.write(\"\\\\begin{itemize} \\n\") \n",
    "    \n",
    "    talks = sorted(talks, key = lambda i: i['year'], reverse = True)\n",
    "        \n",
    "    for entry in talks:\n",
    "        if entry['Type'] == 'platica':\n",
    "            file1.write(f\"\\\\item {entry['Date']}, {entry['Title']}, en \\\\textit{{ {entry['Event']},}} {entry['Place']} \\n\")            \n",
    "\n",
    "    file1.write(\"\\\\end{itemize} \\n\") \n",
    "                        \n",
    "file1.close() #to change file access modes "
   ]
  },
  {
   "cell_type": "code",
   "execution_count": 14,
   "metadata": {},
   "outputs": [
    {
     "ename": "NameError",
     "evalue": "name 'activities_dv' is not defined",
     "output_type": "error",
     "traceback": [
      "\u001b[0;31m---------------------------------------------------------------------------\u001b[0m",
      "\u001b[0;31mNameError\u001b[0m                                 Traceback (most recent call last)",
      "\u001b[0;32m<ipython-input-14-f70c80cd2f28>\u001b[0m in \u001b[0;36m<module>\u001b[0;34m\u001b[0m\n\u001b[1;32m      4\u001b[0m \u001b[0mfile1\u001b[0m \u001b[0;34m=\u001b[0m \u001b[0mopen\u001b[0m\u001b[0;34m(\u001b[0m\u001b[0;34m\"divulgacion.tex\"\u001b[0m\u001b[0;34m,\u001b[0m\u001b[0;34m\"w\"\u001b[0m\u001b[0;34m)\u001b[0m\u001b[0;34m\u001b[0m\u001b[0;34m\u001b[0m\u001b[0m\n\u001b[1;32m      5\u001b[0m \u001b[0;34m\u001b[0m\u001b[0m\n\u001b[0;32m----> 6\u001b[0;31m \u001b[0mprint\u001b[0m\u001b[0;34m(\u001b[0m\u001b[0mactivities_dv\u001b[0m\u001b[0;34m)\u001b[0m\u001b[0;34m\u001b[0m\u001b[0;34m\u001b[0m\u001b[0m\n\u001b[0m\u001b[1;32m      7\u001b[0m \u001b[0;34m\u001b[0m\u001b[0m\n\u001b[1;32m      8\u001b[0m \u001b[0;34m\u001b[0m\u001b[0m\n",
      "\u001b[0;31mNameError\u001b[0m: name 'activities_dv' is not defined"
     ]
    }
   ],
   "source": [
    "# Crear un archivo tex para las actividades de divulgacion\n",
    "\n",
    "# write data in a file. \n",
    "file1 = open(\"divulgacion.tex\",\"w\")\n",
    "\n",
    "print(activities_dv)\n",
    "\n",
    "\n",
    "if count_proc > 0:\n",
    "    file1.write(\" Artículos de divulgación de la ciencia publicados/aceptados:\")\n",
    "    file1.write(\"\\\\begin{itemize} \\n\") \n",
    "                    \n",
    "    for entry in divul_entries:\n",
    "        file1.write(f\"\\\\item {entry['author']}, {entry['title']}, {entry['journal']}, {entry['year']} \\n\")            \n",
    "\n",
    "    file1.write(\"\\\\end{itemize} \\n\") \n",
    "\n",
    "if count_activ > 0:\n",
    "    file1.write(\"Actividades de vinculación o divulgación de la ciencia: \\n\")\n",
    "    file1.write(\"\\\\begin{itemize} \\n\") \n",
    "        \n",
    "    for entry in activities_dv:\n",
    "        if entry['Type'] == 'platica':\n",
    "            file1.write(f\"\\\\item Plática impartida en el/la {entry['Event']} con el título {entry['Title']}, {entry['Place']}, {entry['Date']} \\n\")\n",
    "        elif entry['Type'] == 'torneo':\n",
    "            file1.write(f\"\\\\item Participación en el/la {entry['Event']}, {entry['Date']} \\n\")        \n",
    "        else:\n",
    "            file1.write(f\"\\\\item Participación en el/la {entry['Event']}, {entry['Date']} \\n\")             \n",
    "\n",
    "    file1.write(\"\\\\end{itemize} \\n\") \n",
    "                    \n",
    "                    \n",
    "#file1.writelines(L) \n",
    "file1.close() #to change file access modes "
   ]
  },
  {
   "cell_type": "markdown",
   "metadata": {},
   "source": [
    "### Enviados"
   ]
  },
  {
   "cell_type": "code",
   "execution_count": 15,
   "metadata": {},
   "outputs": [],
   "source": [
    "# Crear un archivo .tex para los enviados\n",
    "\n",
    "# write data in a file. \n",
    "file1 = open(\"enviados.tex\",\"w\") \n",
    "\n",
    "#subm_entries.append(entry)\n",
    "#            count_subm += 1\n",
    "  \n",
    "# \\n is placed to indicate EOL (End of Line) \n",
    "if count_subm  > 0:\n",
    "    file1.write(\"\\nArtículos enviados o en revision:\")\n",
    "    file1.write(\"\\\\begin{itemize} \\n\") \n",
    "    \n",
    "    for entry in subm_entries:\n",
    "        file1.write(f\"\\\\item {entry['author']}, {entry['title']}, \\n\") \n",
    "                    \n",
    "    file1.write(\"\\\\end{itemize} \\n\") \n",
    "                    \n",
    "                                        \n",
    "#file1.writelines(L) \n",
    "file1.close() #to change file access modes "
   ]
  },
  {
   "cell_type": "code",
   "execution_count": null,
   "metadata": {},
   "outputs": [],
   "source": []
  },
  {
   "cell_type": "code",
   "execution_count": null,
   "metadata": {},
   "outputs": [],
   "source": []
  },
  {
   "cell_type": "code",
   "execution_count": null,
   "metadata": {},
   "outputs": [],
   "source": []
  },
  {
   "cell_type": "code",
   "execution_count": null,
   "metadata": {},
   "outputs": [],
   "source": []
  }
 ],
 "metadata": {
  "kernelspec": {
   "display_name": "Python 3",
   "language": "python",
   "name": "python3"
  },
  "language_info": {
   "codemirror_mode": {
    "name": "ipython",
    "version": 3
   },
   "file_extension": ".py",
   "mimetype": "text/x-python",
   "name": "python",
   "nbconvert_exporter": "python",
   "pygments_lexer": "ipython3",
   "version": "3.7.4"
  }
 },
 "nbformat": 4,
 "nbformat_minor": 2
}
