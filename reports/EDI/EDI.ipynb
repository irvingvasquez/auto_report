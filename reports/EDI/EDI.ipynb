{
 "cells": [
  {
   "cell_type": "code",
   "execution_count": 1,
   "id": "4a3f6e5f",
   "metadata": {},
   "outputs": [],
   "source": [
    "import csv\n",
    "#import pandas as pd\n",
    "import datetime\n",
    "#!pip install pyparsing\n",
    "import pyparsing\n",
    "#!pip install bibtexparser\n",
    "import bibtexparser\n",
    "\n",
    "import os\n",
    "from os import path\n",
    "\n",
    "#!pip install numpy\n",
    "import numpy as np\n",
    "import matplotlib.pyplot as plt"
   ]
  },
  {
   "cell_type": "code",
   "execution_count": 2,
   "id": "2deb23f2",
   "metadata": {},
   "outputs": [],
   "source": [
    "# Fechas del reporte\n",
    "date_inicio = datetime.datetime(2017,1,1)\n",
    "date_fin = datetime.datetime(2020,12,31)\n",
    "\n",
    "# direccion de la base de datos\n",
    "database_folder = '../../database/'\n",
    "\n",
    "# direccion de los probatorios\n",
    "probatorios_folder = '/home/irving/Dropbox/Probatorios/'\n",
    "\n",
    "# carpeta de destino\n",
    "output_folder = '/home/irving/Documents/EDI_2021'"
   ]
  },
  {
   "cell_type": "code",
   "execution_count": 3,
   "id": "a3c6aa11",
   "metadata": {},
   "outputs": [
    {
     "name": "stdout",
     "output_type": "stream",
     "text": [
      "Directory  /home/irving/Documents/EDI_2021  already exists\n"
     ]
    }
   ],
   "source": [
    "dirName = output_folder\n",
    "if not os.path.exists(dirName):\n",
    "    os.mkdir(dirName)\n",
    "    print(\"Directory \" , dirName ,  \" Created \")\n",
    "else:    \n",
    "    print(\"Directory \" , dirName ,  \" already exists\")\n",
    "    \n"
   ]
  },
  {
   "cell_type": "code",
   "execution_count": 4,
   "id": "52d969e6",
   "metadata": {},
   "outputs": [],
   "source": [
    "## Papers\n",
    "with open(database_folder + 'myproducts.bib') as bibtex_file:\n",
    "    bibtex_str = bibtex_file.read()\n",
    "\n",
    "bib_database = bibtexparser.loads(bibtex_str)\n",
    "#print(bib_database.entries)\n",
    "\n",
    "\n",
    "# Teaching\n",
    "teaching = []\n",
    "with open(database_folder + 'teaching.csv', 'r') as csvfile:\n",
    "    reader = csv.DictReader(csvfile)\n",
    "    for row in reader:\n",
    "        dictio = dict(row)\n",
    "        teaching.append(dictio)\n",
    "\n",
    " \n",
    "# Talks\n",
    "talks = []\n",
    "with open(database_folder + 'talks.csv', 'r') as csvfile:\n",
    "    reader = csv.DictReader(csvfile)\n",
    "    for row in reader:\n",
    "        dictio = dict(row)\n",
    "        talks.append(dictio)\n",
    "        \n",
    "# Developments\n",
    "developments = []\n",
    "with open(database_folder + 'developments.csv', 'r') as csvfile:\n",
    "    reader = csv.DictReader(csvfile)\n",
    "    for row in reader:\n",
    "        dictio = dict(row)\n",
    "        developments.append(dictio)\n",
    "        \n",
    "        \n",
    "# Divulgacion\n",
    "divulgacion = []\n",
    "with open(database_folder + 'divulgacion.csv', 'r') as csvfile:\n",
    "    reader = csv.DictReader(csvfile)\n",
    "    for row in reader:\n",
    "        dictio = dict(row)\n",
    "        divulgacion.append(dictio)\n",
    "#print(divulgacion)"
   ]
  },
  {
   "cell_type": "code",
   "execution_count": 5,
   "id": "681e0fc0",
   "metadata": {},
   "outputs": [
    {
     "name": "stdout",
     "output_type": "stream",
     "text": [
      "19 products found\n",
      "8 JCR products found\n",
      "5 Proccedings products found\n",
      "4 Master Thesis found\n",
      "1 conacyt articles\n",
      "1 conacyt articles\n",
      "0 preprints\n",
      "1 divulgacion\n"
     ]
    }
   ],
   "source": [
    "# Papers and thesis\n",
    "\n",
    "count = 0\n",
    "count_jcr = 0\n",
    "count_cona = 0\n",
    "count_proc = 0\n",
    "count_mt = 0\n",
    "count_preprint = 0\n",
    "count_otros = 0\n",
    "count_divul = 0\n",
    "\n",
    "jcr_entries = []\n",
    "proc_entries = []\n",
    "mt_entries = []\n",
    "cona_entries = []\n",
    "preprint_entries = []\n",
    "otros_entries = []\n",
    "divul_entries = []\n",
    "\n",
    "for entry in bib_database.entries:\n",
    "    #print(entry)\n",
    "    entry_date = datetime.datetime(int(entry['year']), int(entry['month']), 1)\n",
    "    #if int(entry['year']) >= int(inicio['year']) and int(entry['year']) <= int(fin['year']):\n",
    "    if date_inicio <= entry_date and entry_date <= date_fin:\n",
    "        count = count +1\n",
    "        #print(prod)\n",
    "        \n",
    "        if entry['ENTRYTYPE'] == 'article':\n",
    "            if entry['note'] == 'jcr':\n",
    "                jcr_entries.append(entry)\n",
    "                count_jcr += 1\n",
    "                \n",
    "            elif entry['note'] == 'conacyt':\n",
    "                cona_entries.append(entry)\n",
    "                count_cona += 1\n",
    "                \n",
    "            elif entry['note'] == 'divulgacion':\n",
    "                divul_entries.append(entry)\n",
    "                count_divul += 1\n",
    "                \n",
    "            else:\n",
    "                otros_entries.append(entry)\n",
    "                count_otros += 1\n",
    "            \n",
    "        if entry['ENTRYTYPE'] == 'inproceedings':\n",
    "            proc_entries.append(entry)\n",
    "            count_proc += 1\n",
    "            \n",
    "        if entry['ENTRYTYPE'] == 'mastersthesis':\n",
    "            mt_entries.append(entry)\n",
    "            count_mt += 1\n",
    "            \n",
    "        if entry['ENTRYTYPE'] == 'unpublished':\n",
    "            preprint_entries.append(entry)\n",
    "            count_preprint += 1\n",
    "        \n",
    "print(f\"{count} products found\")\n",
    "print(f\"{count_jcr} JCR products found\")\n",
    "print(f\"{count_proc} Proccedings products found\")\n",
    "print(f\"{count_mt} Master Thesis found\")\n",
    "print(f\"{count_cona} conacyt articles\")\n",
    "print(f\"{count_cona} conacyt articles\")\n",
    "print(f\"{count_preprint} preprints\")\n",
    "print(f\"{count_divul} divulgacion\")"
   ]
  },
  {
   "cell_type": "code",
   "execution_count": 8,
   "id": "6c3dc18e",
   "metadata": {},
   "outputs": [
    {
     "name": "stdout",
     "output_type": "stream",
     "text": [
      "19 products found\n",
      "1200 puntos jcr\n",
      "150 puntos proccedings\n",
      "400 puntos direccion de tesis de maestría\n",
      "100 puntos conacyt\n",
      "25 divulgacion\n",
      "1875 puntos en total\n"
     ]
    }
   ],
   "source": [
    "# Calcular puntos\n",
    "total = 0\n",
    "\n",
    "categoria_ipn = {'jcr':'nivel_a', 'conacyt': 'nivel_b', 'divulgacion': 'nivel_e', 'inproceedings': 'memorias', 'mastersthesis':'direccion_maestria'}\n",
    "\n",
    "puntos = {'nivel_a': 150, 'nivel_b': 100, 'nivel_e': 25, 'memorias': 30, 'direccion_maestria': 100}\n",
    "\n",
    "print(f\"{count} products found\")\n",
    "\n",
    "total += count_jcr * puntos[categoria_ipn['jcr']]\n",
    "print(f\"{count_jcr * puntos[categoria_ipn['jcr']]} puntos jcr\")\n",
    "\n",
    "total += count_proc * puntos[categoria_ipn['inproceedings']]\n",
    "print(f\"{count_proc * puntos[categoria_ipn['inproceedings']]} puntos proccedings\")\n",
    "\n",
    "total += count_mt * puntos[categoria_ipn['mastersthesis']]\n",
    "print(f\"{count_mt * puntos[categoria_ipn['mastersthesis']]} puntos direccion de tesis de maestría\")\n",
    "\n",
    "total += count_cona * puntos[categoria_ipn['conacyt']]\n",
    "print(f\"{count_cona * puntos[categoria_ipn['conacyt']]} puntos conacyt\")\n",
    "\n",
    "total += count_cona * puntos[categoria_ipn['divulgacion']]\n",
    "print(f\"{count_cona * puntos[categoria_ipn['divulgacion']]} divulgacion\")\n",
    "\n",
    "print(f\"{total} puntos en total\")"
   ]
  },
  {
   "cell_type": "markdown",
   "id": "849b6aa3",
   "metadata": {},
   "source": [
    "## Crear evidencias"
   ]
  },
  {
   "cell_type": "code",
   "execution_count": 7,
   "id": "94eff1fd",
   "metadata": {},
   "outputs": [
    {
     "name": "stdout",
     "output_type": "stream",
     "text": [
      "Directory  /home/irving/Documents/EDI_2021/I_PRODUCTIVIDAD_DE_INVESTIGACION_CIENTIFICA_Y_TECNOLOGICA  already exists\n"
     ]
    }
   ],
   "source": [
    "# Create target Directory if don't exist\n",
    "dirName = output_folder + \"/I_PRODUCTIVIDAD_DE_INVESTIGACION_CIENTIFICA_Y_TECNOLOGICA\"\n",
    "if not os.path.exists(dirName):\n",
    "    os.mkdir(dirName)\n",
    "    print(\"Directory \" , dirName ,  \" Created \")\n",
    "else:    \n",
    "    print(\"Directory \" , dirName ,  \" already exists\")"
   ]
  },
  {
   "cell_type": "code",
   "execution_count": null,
   "id": "eca5fc08",
   "metadata": {},
   "outputs": [],
   "source": []
  }
 ],
 "metadata": {
  "kernelspec": {
   "display_name": "Python 3",
   "language": "python",
   "name": "python3"
  },
  "language_info": {
   "codemirror_mode": {
    "name": "ipython",
    "version": 3
   },
   "file_extension": ".py",
   "mimetype": "text/x-python",
   "name": "python",
   "nbconvert_exporter": "python",
   "pygments_lexer": "ipython3",
   "version": "3.9.5"
  }
 },
 "nbformat": 4,
 "nbformat_minor": 5
}
