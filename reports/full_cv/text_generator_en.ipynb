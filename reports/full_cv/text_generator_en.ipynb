{
 "cells": [
  {
   "cell_type": "markdown",
   "metadata": {},
   "source": [
    "# Reportar Producción Científica\n",
    "## English\n",
    "\n",
    "Reportar producción científica para generar CV en español"
   ]
  },
  {
   "cell_type": "code",
   "execution_count": 1,
   "metadata": {},
   "outputs": [],
   "source": [
    "import csv\n",
    "#import pandas as pd\n",
    "import datetime\n",
    "#!pip install pyparsing\n",
    "import pyparsing\n",
    "#!pip install bibtexparser\n",
    "import bibtexparser\n",
    "\n",
    "import os\n",
    "from os import path\n",
    "\n",
    "#!pip install numpy\n",
    "import numpy as np\n",
    "import matplotlib.pyplot as plt"
   ]
  },
  {
   "cell_type": "code",
   "execution_count": 2,
   "metadata": {},
   "outputs": [],
   "source": [
    "# Fechas del reporte\n",
    "date_inicio = datetime.datetime(2008,8,1)\n",
    "date_fin = datetime.datetime(2022,12,31)\n",
    "\n",
    "# direccion de la base de datos\n",
    "database_folder = '../../database/'\n"
   ]
  },
  {
   "cell_type": "markdown",
   "metadata": {},
   "source": [
    "## Read databases"
   ]
  },
  {
   "cell_type": "code",
   "execution_count": 3,
   "metadata": {},
   "outputs": [],
   "source": [
    "## Papers\n",
    "with open(database_folder + 'myproducts.bib') as bibtex_file:\n",
    "    bibtex_str = bibtex_file.read()\n",
    "\n",
    "bib_database = bibtexparser.loads(bibtex_str)\n",
    "#print(bib_database.entries)\n",
    "\n",
    "\n",
    "# Teaching\n",
    "teaching = []\n",
    "with open(database_folder + 'teaching.csv', 'r') as csvfile:\n",
    "    reader = csv.DictReader(csvfile)\n",
    "    for row in reader:\n",
    "        dictio = dict(row)\n",
    "        teaching.append(dictio)\n",
    "\n",
    " \n",
    "# Talks\n",
    "talks = []\n",
    "with open(database_folder + 'talks.csv', 'r') as csvfile:\n",
    "    reader = csv.DictReader(csvfile)\n",
    "    for row in reader:\n",
    "        dictio = dict(row)\n",
    "        talks.append(dictio)\n",
    "        \n",
    "# Developments\n",
    "developments = []\n",
    "with open(database_folder + 'developments.csv', 'r') as csvfile:\n",
    "    reader = csv.DictReader(csvfile)\n",
    "    for row in reader:\n",
    "        dictio = dict(row)\n",
    "        developments.append(dictio)\n",
    "        \n",
    "        \n",
    "# Divulgacion\n",
    "divulgacion = []\n",
    "with open(database_folder + 'divulgacion.csv', 'r') as csvfile:\n",
    "    reader = csv.DictReader(csvfile)\n",
    "    for row in reader:\n",
    "        dictio = dict(row)\n",
    "        divulgacion.append(dictio)\n",
    "#print(divulgacion)\n"
   ]
  },
  {
   "cell_type": "code",
   "execution_count": 4,
   "metadata": {},
   "outputs": [
    {
     "name": "stdout",
     "output_type": "stream",
     "text": [
      "36 products found\n",
      "16 JCR products found\n",
      "13 Proccedings products found\n",
      "4 Master Thesis found\n",
      "1 conacyt articles\n",
      "1 conacyt articles\n",
      "0 preprints\n",
      "1 divulgacion\n"
     ]
    }
   ],
   "source": [
    "# Papers and thesis\n",
    "\n",
    "count = 0\n",
    "count_jcr = 0\n",
    "count_cona = 0\n",
    "count_proc = 0\n",
    "count_mt = 0\n",
    "count_preprint = 0\n",
    "count_otros = 0\n",
    "count_divul = 0\n",
    "\n",
    "jcr_entries = []\n",
    "proc_entries = []\n",
    "mt_entries = []\n",
    "cona_entries = []\n",
    "preprint_entries = []\n",
    "otros_entries = []\n",
    "divul_entries = []\n",
    "\n",
    "for entry in bib_database.entries:\n",
    "    #print(entry)\n",
    "    entry_date = datetime.datetime(int(entry['year']), int(entry['month']), 1)\n",
    "    #if int(entry['year']) >= int(inicio['year']) and int(entry['year']) <= int(fin['year']):\n",
    "    if date_inicio <= entry_date and entry_date <= date_fin:\n",
    "        count = count +1\n",
    "        #print(prod)\n",
    "        \n",
    "        if entry['ENTRYTYPE'] == 'article':\n",
    "            if entry['note'] == 'jcr':\n",
    "                jcr_entries.append(entry)\n",
    "                count_jcr += 1\n",
    "                \n",
    "            elif entry['note'] == 'conacyt':\n",
    "                cona_entries.append(entry)\n",
    "                count_cona += 1\n",
    "                \n",
    "            elif entry['note'] == 'divulgacion':\n",
    "                divul_entries.append(entry)\n",
    "                count_divul += 1\n",
    "                \n",
    "            else:\n",
    "                otros_entries.append(entry)\n",
    "                count_otros += 1\n",
    "            \n",
    "        if entry['ENTRYTYPE'] == 'inproceedings':\n",
    "            proc_entries.append(entry)\n",
    "            count_proc += 1\n",
    "            \n",
    "        if entry['ENTRYTYPE'] == 'mastersthesis':\n",
    "            mt_entries.append(entry)\n",
    "            count_mt += 1\n",
    "            \n",
    "        if entry['ENTRYTYPE'] == 'unpublished':\n",
    "            preprint_entries.append(entry)\n",
    "            count_preprint += 1\n",
    "        \n",
    "print(f\"{count} products found\")\n",
    "print(f\"{count_jcr} JCR products found\")\n",
    "print(f\"{count_proc} Proccedings products found\")\n",
    "print(f\"{count_mt} Master Thesis found\")\n",
    "print(f\"{count_cona} conacyt articles\")\n",
    "print(f\"{count_cona} conacyt articles\")\n",
    "print(f\"{count_preprint} preprints\")\n",
    "print(f\"{count_divul} divulgacion\")"
   ]
  },
  {
   "cell_type": "code",
   "execution_count": 5,
   "metadata": {},
   "outputs": [],
   "source": [
    "# list products between dates\n",
    "#count_activ = 0\n",
    "\n",
    "#activities_dv = []\n",
    "#for activ in divulgacion:\n",
    "    #print(toDate(subject['Inicio']).year)\n",
    "#    if date_inicio <= toDate(activ['Date']) and date_fin >= toDate(activ['Date']):\n",
    "#        count_activ += 1\n",
    "#        activities_dv.append(activ)\n",
    "        \n",
    "#print(f\"{count_activ} actividades de divulación o vinculación\")\n"
   ]
  },
  {
   "cell_type": "code",
   "execution_count": 6,
   "metadata": {},
   "outputs": [],
   "source": [
    "# Verificar que existe el folder\n",
    "if not path.exists('text'):\n",
    "    os.mkdir('text')\n",
    "    \n",
    "#print (\"directory exists:\" + str(path.exists('text')))\n",
    "#os.mkdir(path)"
   ]
  },
  {
   "cell_type": "markdown",
   "metadata": {},
   "source": [
    "## Publicaciones"
   ]
  },
  {
   "cell_type": "code",
   "execution_count": 7,
   "metadata": {},
   "outputs": [
    {
     "data": {
      "image/png": "[encoded data removed]",
      "text/plain": [
       "<Figure size 648x324 with 1 Axes>"
      ]
     },
     "metadata": {},
     "output_type": "display_data"
    }
   ],
   "source": [
    "labels = []\n",
    "publicaciones = []\n",
    "\n",
    "# Graficar los productos\n",
    "if count_jcr > 0:\n",
    "    publicaciones.append(count_jcr)\n",
    "    labels.append(f\"JCR Articles ({str(count_jcr)})\")\n",
    "    \n",
    "if count_proc > 0:\n",
    "    publicaciones.append(count_proc)\n",
    "    labels.append(f\"Conferences ({str(count_proc)})\")\n",
    "\n",
    "if count_mt > 0:\n",
    "    publicaciones.append(count_mt)\n",
    "    labels.append(f\"Master thesis ({str(count_mt)})\")\n",
    "    \n",
    "if count_cona > 0:\n",
    "    publicaciones.append(count_cona)\n",
    "    labels.append(f\"CONACYT papers ({str(count_cona)})\")\n",
    "    \n",
    "#if count_preprint > 0:\n",
    "#    publicaciones.append(count_preprint)\n",
    "#    labels.append(f\"Preprints ({str(count_preprint)})\")\n",
    "\n",
    "if count_divul > 0:\n",
    "    publicaciones.append(count_divul)\n",
    "    labels.append(f\"Scientific dissemination ({str(count_divul)})\")\n",
    "    \n",
    "#if count_otros > 0:\n",
    "#publicaciones.append(count_otros)\n",
    "#labels.append(\"Otros\")\n",
    "\n",
    "fig, ax1 = plt.subplots(figsize=(9, 4.5), subplot_kw=dict(aspect=\"equal\"))\n",
    "\n",
    "ax1.pie(publicaciones, labels=labels, autopct='%1.1f%%',\n",
    "        shadow=True, startangle=90)\n",
    "# Equal aspect ratio ensures that pie is drawn as a circle\n",
    "ax1.axis('equal')  \n",
    "plt.tight_layout()\n",
    "plt.savefig(\"text/products_en.pdf\", format='pdf')\n",
    "plt.savefig(\"text/products_en.png\", format='png')\n",
    "plt.show()\n"
   ]
  },
  {
   "cell_type": "code",
   "execution_count": 8,
   "metadata": {},
   "outputs": [],
   "source": [
    "# Crear un archivo .tex para la producción científica\n",
    "# Articulos JCR\n",
    "\n",
    "# write data in a file. \n",
    "file1 = open(\"text/jcr_journals.tex\",\"w\") \n",
    "#L = [\"This is Delhi \\n\",\"This is Paris \\n\",\"This is London \\n\"]  \n",
    "  \n",
    "# \\n is placed to indicate EOL (End of Line) \n",
    "if count_jcr > 0:\n",
    "    file1.write(\"\\\\begin{itemize} \\n\") \n",
    "    \n",
    "    jcr_entries = sorted(jcr_entries, key = lambda i: i['year'], reverse = True)\n",
    "    \n",
    "    for entry in jcr_entries:\n",
    "        file1.write(f\"\\\\item {entry['author']}, {entry['title']},\\\\textit{{ {entry['journal']},}} ({entry['year']}),\") \n",
    "        if 'doi' in entry.keys():\n",
    "            file1.write(f\" \\\\href{{{entry['doi']}}} {{\\\\faFilePdfO}},\")\n",
    "        file1.write(f\" I.F. {entry['if']} \\n\")\n",
    "    file1.write(\"\\\\end{itemize} \\n\")                     \n",
    "                                        \n",
    "file1.close() #to change file access modes \n"
   ]
  },
  {
   "cell_type": "code",
   "execution_count": 9,
   "metadata": {},
   "outputs": [],
   "source": [
    "# CONACYT\n",
    "\n",
    "# write data in a file. \n",
    "file1 = open(\"text/conacyt_journals.tex\",\"w\") \n",
    "#L = [\"This is Delhi \\n\",\"This is Paris \\n\",\"This is London \\n\"]    \n",
    "                    \n",
    "if count_cona > 0:\n",
    "    file1.write(\"\\\\begin{itemize} \\n\") \n",
    "    \n",
    "    cona_entries = sorted(cona_entries, key = lambda i: i['year'], reverse = True)\n",
    "    \n",
    "    for entry in cona_entries:\n",
    "        file1.write(f\"\\\\item {entry['author']}, {entry['title']},\\\\textit{{ {entry['journal']},}} ({entry['year']}) \\n\") \n",
    "                    \n",
    "    file1.write(\"\\\\end{itemize} \\n\")                  \n",
    "                                        \n",
    "file1.close() #to change file access modes "
   ]
  },
  {
   "cell_type": "code",
   "execution_count": 10,
   "metadata": {},
   "outputs": [],
   "source": [
    "# CONFERENCIAS\n",
    "\n",
    "# write data in a file. \n",
    "file1 = open(\"text/proceedings.tex\",\"w\") \n",
    "                                      \n",
    "if count_proc > 0:\n",
    "   file1.write(\"\\\\begin{itemize} \\n\") \n",
    "                    \n",
    "   proc_entries = sorted(proc_entries, key = lambda i: i['year'], reverse = True)\n",
    "                    \n",
    "   for entry in proc_entries:\n",
    "        file1.write(f\"\\\\item {entry['author']}, {entry['title']}, \\\\textit{{ {entry['booktitle']},}} {entry['year']} \\n\")        \n",
    "\n",
    "   file1.write(\"\\\\end{itemize} \\n\")                     \n",
    "                                        \n",
    "file1.close() #to change file access modes "
   ]
  },
  {
   "cell_type": "markdown",
   "metadata": {},
   "source": [
    "## Estudiantes\n",
    "\n",
    "Crear un archivo tex para la formación de recursos humanos"
   ]
  },
  {
   "cell_type": "code",
   "execution_count": 11,
   "metadata": {},
   "outputs": [],
   "source": [
    "# MAESTRIA\n",
    "\n",
    "# write data in a file. \n",
    "file1 = open(\"text/master_students.tex\",\"w\")\n",
    "\n",
    "#file1.write(\"\\\\item{\\\\bf GRADUATED MASTER STUDENTS: }\\n\")\n",
    "    \n",
    "if count_mt > 0:\n",
    "    #file1.write(\"Tesis de maestría dirigidas: \\n\")\n",
    "    file1.write(\"\\\\begin{itemize} \\n\")\n",
    "    \n",
    "    mt_entries = sorted(mt_entries, key = lambda i: i['year'], reverse = True)\n",
    "                    \n",
    "    for entry in mt_entries:\n",
    "        file1.write(f\"\\\\item {entry['author']}, \\\\textit{{ {entry['title']} }}, \\\\href{{ {entry['link']} }}{{\\\\faFilePdfO}}, {entry['year']}, {entry['school']}. \\n\")        \n",
    "\n",
    "    file1.write(\"\\\\end{itemize} \\n\") \n",
    "                    \n",
    "file1.close() #to change file access modes "
   ]
  },
  {
   "cell_type": "markdown",
   "metadata": {},
   "source": [
    "## Clases"
   ]
  },
  {
   "cell_type": "code",
   "execution_count": 12,
   "metadata": {},
   "outputs": [
    {
     "name": "stdout",
     "output_type": "stream",
     "text": [
      "28 materias impartidas\n",
      "1548 horas impartidas\n"
     ]
    }
   ],
   "source": [
    "# Teaching\n",
    "def toDate(cadena):\n",
    "    return datetime.datetime.strptime(cadena, '%Y/%m/%d')\n",
    "\n",
    "# list products between dates\n",
    "count_sub = 0\n",
    "total_hours = 0\n",
    "\n",
    "for subject in teaching:\n",
    "    #print(toDate(subject['Inicio']).year)\n",
    "    if date_inicio <= toDate(subject['Inicio']) and date_fin >= toDate(subject['Fin']):\n",
    "        count_sub += 1\n",
    "        total_hours += int(subject['Horas'])     \n",
    "        \n",
    "print(f\"{count_sub} materias impartidas\")\n",
    "print(f\"{total_hours} horas impartidas\")\n",
    "\n",
    "\n",
    "# write data in a file. \n",
    "file1 = open(\"text/teaching.tex\",\"w\")\n",
    "\n",
    "#file1.write(\"\\\\item{\\\\bf GRADUATED MASTER STUDENTS: }\\n\")\n",
    "    \n",
    "if len(teaching) > 0:\n",
    "    #teaching = sorted(teaching, key = lambda i: i['year'], reverse = True)\n",
    "    \n",
    "    file1.write(\"\\\\begin{itemize} \\n\")\n",
    "                    \n",
    "    for entry in teaching:\n",
    "        file1.write(f\"\\\\item {entry['Inicio']}, \\\\textit{{ {entry['Nombre']},}} nivel {entry['Nivel']}, {entry['Horas']} horas. \\n\")        \n",
    "\n",
    "    file1.write(\"\\\\end{itemize} \\n\") \n",
    "                    \n",
    "file1.close() #to change file access modes "
   ]
  },
  {
   "cell_type": "markdown",
   "metadata": {},
   "source": [
    "## Desarrollos tecnológicos"
   ]
  },
  {
   "cell_type": "code",
   "execution_count": 13,
   "metadata": {},
   "outputs": [],
   "source": [
    "# Desarrollos tecnológicos\n",
    "\n",
    "file1 = open(\"text/developments.tex\",\"w\")\n",
    "\n",
    "if len(developments) > 0:\n",
    "    #teaching = sorted(teaching, key = lambda i: i['year'], reverse = True)\n",
    "    file1.write(\"\\\\begin{itemize} \\n\")\n",
    "                    \n",
    "    for entry in developments:\n",
    "        file1.write(f\"\\\\item {entry['Date']}, \\\\textit{{ {entry['Name']},}} {entry['User']}, {entry['License']}, {entry['Validation']} \\n\")        \n",
    "\n",
    "    file1.write(\"\\\\end{itemize} \\n\") \n",
    "                    \n",
    "file1.close() #to change file access modes "
   ]
  },
  {
   "cell_type": "markdown",
   "metadata": {},
   "source": [
    "## Vinculación y divulgación"
   ]
  },
  {
   "cell_type": "code",
   "execution_count": 14,
   "metadata": {},
   "outputs": [],
   "source": [
    "# Talks\n",
    "\n",
    "# write data in a file. \n",
    "file1 = open(\"text/talks.tex\",\"w\")\n",
    "\n",
    "if len(talks) > 0:\n",
    "    file1.write(\"\\\\begin{itemize} \\n\") \n",
    "    \n",
    "    talks = sorted(talks, key = lambda i: i['year'], reverse = True)\n",
    "        \n",
    "    for entry in talks:\n",
    "        if entry['Type'] == 'platica':\n",
    "            file1.write(f\"\\\\item {entry['Date']}, {entry['Title']}, en \\\\textit{{ {entry['Event']},}} {entry['Place']} \\n\")            \n",
    "\n",
    "    file1.write(\"\\\\end{itemize} \\n\") \n",
    "                        \n",
    "file1.close() #to change file access modes "
   ]
  },
  {
   "cell_type": "code",
   "execution_count": 15,
   "metadata": {},
   "outputs": [],
   "source": [
    "# Workshops\n",
    "\n",
    "# write data in a file. \n",
    "file1 = open(\"text/workshop.tex\",\"w\")\n",
    "\n",
    "if len(talks) > 0:\n",
    "    file1.write(\"\\\\begin{itemize} \\n\") \n",
    "    \n",
    "    talks = sorted(talks, key = lambda i: i['year'], reverse = True)\n",
    "        \n",
    "    for entry in talks:\n",
    "        if entry['Type'] == 'taller':\n",
    "            file1.write(f\"\\\\item {entry['Date']}, {entry['Title']}, en \\\\textit{{ {entry['Event']},}} {entry['Place']} \\n\")            \n",
    "\n",
    "    file1.write(\"\\\\end{itemize} \\n\") \n",
    "                        \n",
    "file1.close() #to change file access modes "
   ]
  },
  {
   "cell_type": "code",
   "execution_count": 16,
   "metadata": {},
   "outputs": [],
   "source": [
    "# Divulgación\n",
    "# write data in a file. \n",
    "file1 = open(\"text/divulgacion.tex\",\"w\") \n",
    "#L = [\"This is Delhi \\n\",\"This is Paris \\n\",\"This is London \\n\"]  \n",
    "  \n",
    "# \\n is placed to indicate EOL (End of Line) \n",
    "if count_jcr > 0:\n",
    "    file1.write(\"\\\\begin{itemize} \\n\") \n",
    "    \n",
    "    jcr_entries = sorted(divul_entries, key = lambda i: i['year'], reverse = True)\n",
    "    \n",
    "    for entry in jcr_entries:\n",
    "        file1.write(f\"\\\\item {entry['author']}, {entry['title']},\\\\textit{{ {entry['journal']},}} ({entry['year']})\\n\") \n",
    "                    \n",
    "    file1.write(\"\\\\end{itemize} \\n\")                     \n",
    "                                        \n",
    "file1.close() #to change file access modes "
   ]
  },
  {
   "cell_type": "markdown",
   "metadata": {},
   "source": [
    "### Preprints"
   ]
  },
  {
   "cell_type": "code",
   "execution_count": 17,
   "metadata": {},
   "outputs": [],
   "source": [
    "# Crear un archivo .tex para los preprints\n",
    "  \n",
    "if count_preprint > 0:\n",
    "    # write data in a file. \n",
    "    file1 = open(\"text/preprints.tex\",\"w\") \n",
    "\n",
    "    #file1.write(\"\\n Preprints:\")\n",
    "    file1.write(\"\\\\begin{itemize} \\n\") \n",
    "    \n",
    "    for entry in preprint_entries:\n",
    "        file1.write(f\"\\\\item {entry['author']}, {entry['title']}, {entry['journal']}, {entry['year']}, \\\\href{{{entry['link']}}}{{\\\\faFilePdfO}} \\n\") \n",
    "                    \n",
    "    file1.write(\"\\\\end{itemize} \\n\") \n",
    "                    \n",
    "    file1.close() #to change file access modes "
   ]
  },
  {
   "cell_type": "markdown",
   "metadata": {},
   "source": [
    "### Call latex\n"
   ]
  },
  {
   "cell_type": "code",
   "execution_count": 18,
   "metadata": {},
   "outputs": [
    {
     "data": {
      "text/plain": [
       "0"
      ]
     },
     "execution_count": 18,
     "metadata": {},
     "output_type": "execute_result"
    }
   ],
   "source": [
    "# execute latex\n",
    "os.system('cd templates; pdflatex -synctex=1 -interaction=nonstopmode cv_jivg_en_full.tex')"
   ]
  },
  {
   "cell_type": "code",
   "execution_count": 19,
   "metadata": {},
   "outputs": [
    {
     "data": {
      "text/plain": [
       "0"
      ]
     },
     "execution_count": 19,
     "metadata": {},
     "output_type": "execute_result"
    }
   ],
   "source": [
    "# open\n",
    "os.system('xdg-open templates/cv_jivg_en_full.pdf > /dev/null')"
   ]
  },
  {
   "cell_type": "code",
   "execution_count": null,
   "metadata": {},
   "outputs": [],
   "source": []
  },
  {
   "cell_type": "code",
   "execution_count": null,
   "metadata": {},
   "outputs": [],
   "source": []
  },
  {
   "cell_type": "code",
   "execution_count": null,
   "metadata": {},
   "outputs": [],
   "source": []
  }
 ],
 "metadata": {
  "interpreter": {
   "hash": "039b0328eae230d61f814ce80420a093bbe79c4c4df5c7915ac8050299546891"
  },
  "kernelspec": {
   "display_name": "Python 3",
   "language": "python",
   "name": "python3"
  },
  "language_info": {
   "codemirror_mode": {
    "name": "ipython",
    "version": 3
   },
   "file_extension": ".py",
   "mimetype": "text/x-python",
   "name": "python",
   "nbconvert_exporter": "python",
   "pygments_lexer": "ipython3",
   "version": "3.9.5"
  }
 },
 "nbformat": 4,
 "nbformat_minor": 2
}
